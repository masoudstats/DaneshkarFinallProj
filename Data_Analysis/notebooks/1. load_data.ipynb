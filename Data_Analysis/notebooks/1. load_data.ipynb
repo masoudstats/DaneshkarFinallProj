{
 "cells": [
  {
   "cell_type": "code",
   "execution_count": 10,
   "metadata": {},
   "outputs": [],
   "source": [
    "import pandas as pd\n",
    "import json\n",
    "import mysql.connector\n",
    "from sqlalchemy import create_engine"
   ]
  },
  {
   "cell_type": "code",
   "execution_count": 11,
   "metadata": {},
   "outputs": [],
   "source": [
    "with open('db_config.json', 'r') as config_file:\n",
    "    config = json.load(config_file)"
   ]
  },
  {
   "cell_type": "code",
   "execution_count": 12,
   "metadata": {},
   "outputs": [],
   "source": [
    "# Connect to MySQL\n",
    "\n",
    "conn = mysql.connector.connect(\n",
    "    host=config['host'],\n",
    "    port=config['port'],\n",
    "    user=config['user'],\n",
    "    password=config['password'],\n",
    "    database=config['database']\n",
    ")"
   ]
  },
  {
   "cell_type": "code",
   "execution_count": 13,
   "metadata": {},
   "outputs": [],
   "source": [
    "# Queries for tables import to python\n",
    "\n",
    "query_album = \"SELECT * FROM album;\"\n",
    "query_artist = \"select * from artist;\"\n",
    "query_customer = \"select * from customer;\"\n",
    "query_employee = \"select * from employee;\"\n",
    "query_genre = \"select * from genre;\"\n",
    "query_invoice = \"select * from invoice;\"\n",
    "query_invoiceline = \"select * from invoiceline;\"\n",
    "query_mediatype = \"select * from mediatype;\"\n",
    "query_playlist = \"select * from playlist;\"\n",
    "query_playlisttrack = \"select * from playlisttrack;\"\n",
    "query_track = \"select * from track;\"\n"
   ]
  },
  {
   "cell_type": "code",
   "execution_count": 14,
   "metadata": {},
   "outputs": [],
   "source": [
    "# Create an SQLAlchemy engine\n",
    "\n",
    "host = config['host']        \n",
    "user = config['user']             \n",
    "password = config['password'] \n",
    "database = config['database'] \n",
    "\n",
    "engine = create_engine(f\"mysql+pymysql://{user}:{password}@{host}/{database}\")"
   ]
  },
  {
   "cell_type": "code",
   "execution_count": null,
   "metadata": {},
   "outputs": [],
   "source": [
    "# Make dataframes\n",
    "\n",
    "df_album = pd.read_sql(query_album, con=engine)\n",
    "df_artist = pd.read_sql(query_artist, con=engine)\n",
    "df_customer = pd.read_sql(query_customer, con=engine)\n",
    "df_employee = pd.read_sql(query_employee, con=engine)\n",
    "df_genre = pd.read_sql(query_genre, con=engine)\n",
    "df_invoice = pd.read_sql(query_invoice, con=engine)\n",
    "df_invoiceline= pd.read_sql(query_invoiceline, con=engine)\n",
    "df_mediatype = pd.read_sql(query_mediatype, con=engine)\n",
    "df_playlist = pd.read_sql(query_playlist, con=engine)\n",
    "df_playlisttrack = pd.read_sql(query_playlisttrack, con=engine)\n",
    "df_track = pd.read_sql(query_track, con=engine)\n",
    "\n",
    "conn.close()"
   ]
  },
  {
   "cell_type": "code",
   "execution_count": null,
   "metadata": {},
   "outputs": [],
   "source": [
    "# Save dataframes\n",
    "\n",
    "df_album.to_excel(\"E:\\\\Daneshkar\\\\part6\\\\Data_Analysis\\\\data\\\\raw\\\\album.xlsx\")\n",
    "df_artist.to_excel(\"E:\\\\Daneshkar\\\\part6\\\\Data_Analysis\\\\data\\\\raw\\\\artist.xlsx\")\n",
    "df_customer.to_excel(\"E:\\\\Daneshkar\\\\part6\\\\Data_Analysis\\\\data\\\\raw\\\\customer.xlsx\")\n",
    "df_employee.to_excel(\"E:\\\\Daneshkar\\\\part6\\\\Data_Analysis\\\\data\\\\raw\\\\employee.xlsx\")\n",
    "df_genre.to_excel(\"E:\\\\Daneshkar\\\\part6\\\\Data_Analysis\\\\data\\\\raw\\\\genre.xlsx\")\n",
    "df_invoice.to_excel(\"E:\\\\Daneshkar\\\\part6\\\\Data_Analysis\\\\data\\\\raw\\\\invoice.xlsx\")\n",
    "df_invoiceline.to_excel(\"E:\\\\Daneshkar\\\\part6\\\\Data_Analysis\\\\data\\\\raw\\\\invoiceline.xlsx\")\n",
    "df_mediatype.to_excel(\"E:\\\\Daneshkar\\\\part6\\\\Data_Analysis\\\\data\\\\raw\\\\mediatype.xlsx\")\n",
    "df_playlist.to_excel(\"E:\\\\Daneshkar\\\\part6\\\\Data_Analysis\\\\data\\\\raw\\\\playlist.xlsx\")\n",
    "df_playlisttrack.to_excel(\"E:\\\\Daneshkar\\\\part6\\\\Data_Analysis\\\\data\\\\raw\\\\playlisttrack.xlsx\")\n",
    "df_track.to_excel(\"E:\\\\Daneshkar\\\\part6\\\\Data_Analysis\\\\data\\\\raw\\\\track.xlsx\")\n"
   ]
  },
  {
   "cell_type": "code",
   "execution_count": null,
   "metadata": {},
   "outputs": [],
   "source": []
  }
 ],
 "metadata": {
  "kernelspec": {
   "display_name": "chinook",
   "language": "python",
   "name": "python3"
  },
  "language_info": {
   "codemirror_mode": {
    "name": "ipython",
    "version": 3
   },
   "file_extension": ".py",
   "mimetype": "text/x-python",
   "name": "python",
   "nbconvert_exporter": "python",
   "pygments_lexer": "ipython3",
   "version": "3.10.6"
  }
 },
 "nbformat": 4,
 "nbformat_minor": 2
}
