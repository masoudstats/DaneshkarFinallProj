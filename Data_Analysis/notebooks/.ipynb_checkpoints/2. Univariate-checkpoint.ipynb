{
 "cells": [
  {
   "cell_type": "code",
   "execution_count": 1,
   "metadata": {},
   "outputs": [],
   "source": [
    "%reset -f\n",
    "import pandas as pd # type: ignore\n",
    "import numpy as np # type: ignore\n",
    "import matplotlib.pyplot as plt # type: ignore\n",
    "import seaborn as sns # type: ignore\n",
    "import sys\n",
    "sys.path.append('E:\\Shahrpot\\Asphalt\\Shahrpot\\Asphalt')\n",
    "from references import charts as ch"
   ]
  },
  {
   "cell_type": "code",
   "execution_count": 2,
   "metadata": {},
   "outputs": [],
   "source": [
    "pd.set_option('display.max_columns', None)"
   ]
  },
  {
   "cell_type": "code",
   "execution_count": 3,
   "metadata": {},
   "outputs": [],
   "source": [
    "df = pd.read_excel(r'E:\\Shahrpot\\Asphalt\\Shahrpot\\Asphalt\\data\\processed\\cleaned_data.xlsx', sheet_name='data')\n",
    "df_guide = pd.read_excel(r'E:\\Shahrpot\\Asphalt\\Shahrpot\\Asphalt\\data\\processed\\cleaned_data.xlsx', sheet_name='راهنما')"
   ]
  },
  {
   "cell_type": "code",
   "execution_count": 4,
   "metadata": {},
   "outputs": [
    {
     "data": {
      "text/html": [
       "<div>\n",
       "<style scoped>\n",
       "    .dataframe tbody tr th:only-of-type {\n",
       "        vertical-align: middle;\n",
       "    }\n",
       "\n",
       "    .dataframe tbody tr th {\n",
       "        vertical-align: top;\n",
       "    }\n",
       "\n",
       "    .dataframe thead th {\n",
       "        text-align: right;\n",
       "    }\n",
       "</style>\n",
       "<table border=\"1\" class=\"dataframe\">\n",
       "  <thead>\n",
       "    <tr style=\"text-align: right;\">\n",
       "      <th></th>\n",
       "      <th>PK</th>\n",
       "      <th>Q1.1</th>\n",
       "      <th>Q1.2</th>\n",
       "      <th>Q1.3</th>\n",
       "      <th>Q1.4</th>\n",
       "      <th>Q1.5</th>\n",
       "      <th>Q1.6</th>\n",
       "      <th>Q1.7</th>\n",
       "      <th>Q1.8</th>\n",
       "      <th>Q2</th>\n",
       "      <th>Q3.1</th>\n",
       "      <th>Q3.2</th>\n",
       "      <th>Q3.3</th>\n",
       "      <th>Q4</th>\n",
       "      <th>Q5</th>\n",
       "      <th>Q6</th>\n",
       "      <th>Q7</th>\n",
       "      <th>Q8</th>\n",
       "      <th>Q9</th>\n",
       "      <th>Q10</th>\n",
       "      <th>Q11</th>\n",
       "      <th>Q12</th>\n",
       "      <th>Q13</th>\n",
       "      <th>Q14.1</th>\n",
       "      <th>Q14.2</th>\n",
       "      <th>Q14.3</th>\n",
       "      <th>Q14.4</th>\n",
       "      <th>Q14.5</th>\n",
       "      <th>Q17</th>\n",
       "      <th>Q18</th>\n",
       "      <th>Q19</th>\n",
       "      <th>Q20</th>\n",
       "      <th>Q21</th>\n",
       "      <th>Q22</th>\n",
       "      <th>Q23</th>\n",
       "      <th>Q24</th>\n",
       "      <th>Q25</th>\n",
       "      <th>blank</th>\n",
       "    </tr>\n",
       "  </thead>\n",
       "  <tbody>\n",
       "    <tr>\n",
       "      <th>0</th>\n",
       "      <td>1</td>\n",
       "      <td>1.0</td>\n",
       "      <td>NaN</td>\n",
       "      <td>1.0</td>\n",
       "      <td>NaN</td>\n",
       "      <td>NaN</td>\n",
       "      <td>NaN</td>\n",
       "      <td>NaN</td>\n",
       "      <td>NaN</td>\n",
       "      <td>1 تا 2 ساعت</td>\n",
       "      <td>بزرگراه ها، آزادراه ها و اتوبان ها</td>\n",
       "      <td>معابر اصلی (خیابان )</td>\n",
       "      <td>معابر فرعی (مثل کوچه )</td>\n",
       "      <td>زیاد</td>\n",
       "      <td>متوسط</td>\n",
       "      <td>متوسط</td>\n",
       "      <td>متوسط</td>\n",
       "      <td>متوسط</td>\n",
       "      <td>بد</td>\n",
       "      <td>خوب</td>\n",
       "      <td>بد</td>\n",
       "      <td>کمی بهتر شده</td>\n",
       "      <td>بله، اما محدود و موردی</td>\n",
       "      <td>مشاهده مستقیم در سطح معابر</td>\n",
       "      <td>اخبار صدا و سیما</td>\n",
       "      <td>NaN</td>\n",
       "      <td>NaN</td>\n",
       "      <td>NaN</td>\n",
       "      <td>زن</td>\n",
       "      <td>55 تا 64</td>\n",
       "      <td>کاردانی و کارشناسی</td>\n",
       "      <td>بازنشسته</td>\n",
       "      <td>خیر</td>\n",
       "      <td>4 تا 5 نفر</td>\n",
       "      <td>10 تا 20 میلیون تومان</td>\n",
       "      <td>1</td>\n",
       "      <td>محلاتی</td>\n",
       "      <td>14</td>\n",
       "    </tr>\n",
       "    <tr>\n",
       "      <th>1</th>\n",
       "      <td>2</td>\n",
       "      <td>1.0</td>\n",
       "      <td>NaN</td>\n",
       "      <td>NaN</td>\n",
       "      <td>NaN</td>\n",
       "      <td>NaN</td>\n",
       "      <td>NaN</td>\n",
       "      <td>NaN</td>\n",
       "      <td>NaN</td>\n",
       "      <td>کمتر از 1 ساعت</td>\n",
       "      <td>معابر فرعی (مثل کوچه )</td>\n",
       "      <td>معابر اصلی (خیابان )</td>\n",
       "      <td>NaN</td>\n",
       "      <td>متوسط</td>\n",
       "      <td>متوسط</td>\n",
       "      <td>متوسط</td>\n",
       "      <td>خوب</td>\n",
       "      <td>بد</td>\n",
       "      <td>متوسط</td>\n",
       "      <td>خوب</td>\n",
       "      <td>خوب</td>\n",
       "      <td>کمی بهتر شده</td>\n",
       "      <td>بله، اما محدود و موردی</td>\n",
       "      <td>NaN</td>\n",
       "      <td>NaN</td>\n",
       "      <td>NaN</td>\n",
       "      <td>NaN</td>\n",
       "      <td>NaN</td>\n",
       "      <td>مرد</td>\n",
       "      <td>55 تا 64</td>\n",
       "      <td>فوق لیسانس و بالاتر</td>\n",
       "      <td>بازنشسته</td>\n",
       "      <td>بله</td>\n",
       "      <td>2 تا 3 نفر</td>\n",
       "      <td>بی پاسخ</td>\n",
       "      <td>5</td>\n",
       "      <td>کاشانی</td>\n",
       "      <td>18</td>\n",
       "    </tr>\n",
       "    <tr>\n",
       "      <th>2</th>\n",
       "      <td>3</td>\n",
       "      <td>NaN</td>\n",
       "      <td>NaN</td>\n",
       "      <td>NaN</td>\n",
       "      <td>1.0</td>\n",
       "      <td>NaN</td>\n",
       "      <td>NaN</td>\n",
       "      <td>NaN</td>\n",
       "      <td>1.0</td>\n",
       "      <td>بیش از 3 ساعت</td>\n",
       "      <td>معابر فرعی (مثل کوچه )</td>\n",
       "      <td>NaN</td>\n",
       "      <td>بزرگراه ها، آزادراه ها و اتوبان ها</td>\n",
       "      <td>متوسط</td>\n",
       "      <td>خیلی کم</td>\n",
       "      <td>متوسط</td>\n",
       "      <td>متوسط</td>\n",
       "      <td>خوب</td>\n",
       "      <td>متوسط</td>\n",
       "      <td>بد</td>\n",
       "      <td>خیلی بد</td>\n",
       "      <td>تغییر محسوسی نداشته</td>\n",
       "      <td>خیر</td>\n",
       "      <td>NaN</td>\n",
       "      <td>NaN</td>\n",
       "      <td>NaN</td>\n",
       "      <td>NaN</td>\n",
       "      <td>NaN</td>\n",
       "      <td>مرد</td>\n",
       "      <td>45 تا 54</td>\n",
       "      <td>دیپلم</td>\n",
       "      <td>شاغل (دولتی، خصوصی، آزاد)</td>\n",
       "      <td>خیر</td>\n",
       "      <td>4 تا 5 نفر</td>\n",
       "      <td>10 تا 20 میلیون تومان</td>\n",
       "      <td>2</td>\n",
       "      <td>چمران</td>\n",
       "      <td>16</td>\n",
       "    </tr>\n",
       "    <tr>\n",
       "      <th>3</th>\n",
       "      <td>4</td>\n",
       "      <td>1.0</td>\n",
       "      <td>NaN</td>\n",
       "      <td>1.0</td>\n",
       "      <td>NaN</td>\n",
       "      <td>NaN</td>\n",
       "      <td>NaN</td>\n",
       "      <td>NaN</td>\n",
       "      <td>NaN</td>\n",
       "      <td>کمتر از 1 ساعت</td>\n",
       "      <td>بزرگراه ها، آزادراه ها و اتوبان ها</td>\n",
       "      <td>معابر اصلی (خیابان )</td>\n",
       "      <td>معابر فرعی (مثل کوچه )</td>\n",
       "      <td>خیلی کم</td>\n",
       "      <td>خیلی کم</td>\n",
       "      <td>خیلی کم</td>\n",
       "      <td>متوسط</td>\n",
       "      <td>متوسط</td>\n",
       "      <td>بد</td>\n",
       "      <td>بد</td>\n",
       "      <td>خوب</td>\n",
       "      <td>کمی بدتر شده</td>\n",
       "      <td>خیر</td>\n",
       "      <td>مشاهده مستقیم در سطح معابر</td>\n",
       "      <td>NaN</td>\n",
       "      <td>NaN</td>\n",
       "      <td>NaN</td>\n",
       "      <td>NaN</td>\n",
       "      <td>زن</td>\n",
       "      <td>35 تا 44</td>\n",
       "      <td>کاردانی و کارشناسی</td>\n",
       "      <td>خانه دار</td>\n",
       "      <td>خیر</td>\n",
       "      <td>4 تا 5 نفر</td>\n",
       "      <td>بی پاسخ</td>\n",
       "      <td>1</td>\n",
       "      <td>محلاتی</td>\n",
       "      <td>15</td>\n",
       "    </tr>\n",
       "    <tr>\n",
       "      <th>4</th>\n",
       "      <td>5</td>\n",
       "      <td>1.0</td>\n",
       "      <td>NaN</td>\n",
       "      <td>NaN</td>\n",
       "      <td>NaN</td>\n",
       "      <td>NaN</td>\n",
       "      <td>NaN</td>\n",
       "      <td>NaN</td>\n",
       "      <td>NaN</td>\n",
       "      <td>کمتر از 1 ساعت</td>\n",
       "      <td>بزرگراه ها، آزادراه ها و اتوبان ها</td>\n",
       "      <td>معابر اصلی (خیابان )</td>\n",
       "      <td>NaN</td>\n",
       "      <td>متوسط</td>\n",
       "      <td>متوسط</td>\n",
       "      <td>متوسط</td>\n",
       "      <td>بد</td>\n",
       "      <td>بد</td>\n",
       "      <td>بد</td>\n",
       "      <td>بد</td>\n",
       "      <td>متوسط</td>\n",
       "      <td>کمی بهتر شده</td>\n",
       "      <td>بله، اما محدود و موردی</td>\n",
       "      <td>NaN</td>\n",
       "      <td>NaN</td>\n",
       "      <td>NaN</td>\n",
       "      <td>NaN</td>\n",
       "      <td>NaN</td>\n",
       "      <td>مرد</td>\n",
       "      <td>35 تا 44</td>\n",
       "      <td>دیپلم</td>\n",
       "      <td>شاغل (دولتی، خصوصی، آزاد)</td>\n",
       "      <td>خیر</td>\n",
       "      <td>2 تا 3 نفر</td>\n",
       "      <td>کمتر از 10 میلیون تومان</td>\n",
       "      <td>5</td>\n",
       "      <td>کاشانی</td>\n",
       "      <td>18</td>\n",
       "    </tr>\n",
       "  </tbody>\n",
       "</table>\n",
       "</div>"
      ],
      "text/plain": [
       "   PK  Q1.1  Q1.2  Q1.3  Q1.4  Q1.5  Q1.6  Q1.7  Q1.8              Q2  \\\n",
       "0   1   1.0   NaN   1.0   NaN   NaN   NaN   NaN   NaN     1 تا 2 ساعت   \n",
       "1   2   1.0   NaN   NaN   NaN   NaN   NaN   NaN   NaN  کمتر از 1 ساعت   \n",
       "2   3   NaN   NaN   NaN   1.0   NaN   NaN   NaN   1.0   بیش از 3 ساعت   \n",
       "3   4   1.0   NaN   1.0   NaN   NaN   NaN   NaN   NaN  کمتر از 1 ساعت   \n",
       "4   5   1.0   NaN   NaN   NaN   NaN   NaN   NaN   NaN  کمتر از 1 ساعت   \n",
       "\n",
       "                                 Q3.1                  Q3.2  \\\n",
       "0  بزرگراه ها، آزادراه ها و اتوبان ها  معابر اصلی (خیابان )   \n",
       "1              معابر فرعی (مثل کوچه )  معابر اصلی (خیابان )   \n",
       "2              معابر فرعی (مثل کوچه )                   NaN   \n",
       "3  بزرگراه ها، آزادراه ها و اتوبان ها  معابر اصلی (خیابان )   \n",
       "4  بزرگراه ها، آزادراه ها و اتوبان ها  معابر اصلی (خیابان )   \n",
       "\n",
       "                                 Q3.3       Q4       Q5       Q6     Q7  \\\n",
       "0              معابر فرعی (مثل کوچه )     زیاد    متوسط    متوسط  متوسط   \n",
       "1                                 NaN    متوسط    متوسط    متوسط    خوب   \n",
       "2  بزرگراه ها، آزادراه ها و اتوبان ها    متوسط  خیلی کم    متوسط  متوسط   \n",
       "3              معابر فرعی (مثل کوچه )  خیلی کم  خیلی کم  خیلی کم  متوسط   \n",
       "4                                 NaN    متوسط    متوسط    متوسط     بد   \n",
       "\n",
       "      Q8     Q9  Q10      Q11                  Q12                     Q13  \\\n",
       "0  متوسط     بد  خوب       بد         کمی بهتر شده  بله، اما محدود و موردی   \n",
       "1     بد  متوسط  خوب      خوب         کمی بهتر شده  بله، اما محدود و موردی   \n",
       "2    خوب  متوسط   بد  خیلی بد  تغییر محسوسی نداشته                     خیر   \n",
       "3  متوسط     بد   بد      خوب         کمی بدتر شده                     خیر   \n",
       "4     بد     بد   بد    متوسط         کمی بهتر شده  بله، اما محدود و موردی   \n",
       "\n",
       "                        Q14.1             Q14.2 Q14.3 Q14.4 Q14.5  Q17  \\\n",
       "0  مشاهده مستقیم در سطح معابر  اخبار صدا و سیما   NaN   NaN   NaN   زن   \n",
       "1                         NaN               NaN   NaN   NaN   NaN  مرد   \n",
       "2                         NaN               NaN   NaN   NaN   NaN  مرد   \n",
       "3  مشاهده مستقیم در سطح معابر               NaN   NaN   NaN   NaN   زن   \n",
       "4                         NaN               NaN   NaN   NaN   NaN  مرد   \n",
       "\n",
       "        Q18                  Q19                        Q20  Q21         Q22  \\\n",
       "0  55 تا 64   کاردانی و کارشناسی                   بازنشسته  خیر  4 تا 5 نفر   \n",
       "1  55 تا 64  فوق لیسانس و بالاتر                   بازنشسته  بله  2 تا 3 نفر   \n",
       "2  45 تا 54               دیپلم   شاغل (دولتی، خصوصی، آزاد)  خیر  4 تا 5 نفر   \n",
       "3  35 تا 44   کاردانی و کارشناسی                   خانه دار  خیر  4 تا 5 نفر   \n",
       "4  35 تا 44               دیپلم   شاغل (دولتی، خصوصی، آزاد)  خیر  2 تا 3 نفر   \n",
       "\n",
       "                       Q23  Q24     Q25  blank  \n",
       "0    10 تا 20 میلیون تومان    1  محلاتی     14  \n",
       "1                  بی پاسخ    5  کاشانی     18  \n",
       "2    10 تا 20 میلیون تومان    2   چمران     16  \n",
       "3                  بی پاسخ    1  محلاتی     15  \n",
       "4  کمتر از 10 میلیون تومان    5  کاشانی     18  "
      ]
     },
     "execution_count": 4,
     "metadata": {},
     "output_type": "execute_result"
    }
   ],
   "source": [
    "df.head()"
   ]
  },
  {
   "cell_type": "code",
   "execution_count": 5,
   "metadata": {},
   "outputs": [
    {
     "data": {
      "text/html": [
       "<div>\n",
       "<style scoped>\n",
       "    .dataframe tbody tr th:only-of-type {\n",
       "        vertical-align: middle;\n",
       "    }\n",
       "\n",
       "    .dataframe tbody tr th {\n",
       "        vertical-align: top;\n",
       "    }\n",
       "\n",
       "    .dataframe thead th {\n",
       "        text-align: right;\n",
       "    }\n",
       "</style>\n",
       "<table border=\"1\" class=\"dataframe\">\n",
       "  <thead>\n",
       "    <tr style=\"text-align: right;\">\n",
       "      <th></th>\n",
       "      <th>Q1.1</th>\n",
       "      <th>Q1.2</th>\n",
       "      <th>Q1.3</th>\n",
       "      <th>Q1.4</th>\n",
       "      <th>Q1.5</th>\n",
       "      <th>Q1.6</th>\n",
       "      <th>Q1.7</th>\n",
       "      <th>Q1.8</th>\n",
       "      <th>Q2</th>\n",
       "      <th>Q3.1</th>\n",
       "      <th>Q3.2</th>\n",
       "      <th>Q3.3</th>\n",
       "      <th>Q4</th>\n",
       "      <th>Q5</th>\n",
       "      <th>Q6</th>\n",
       "      <th>Q7</th>\n",
       "      <th>Q8</th>\n",
       "      <th>Q9</th>\n",
       "      <th>Q10</th>\n",
       "      <th>Q11</th>\n",
       "      <th>Q12</th>\n",
       "      <th>Q13</th>\n",
       "      <th>Q14.1</th>\n",
       "      <th>Q14.2</th>\n",
       "      <th>Q14.3</th>\n",
       "      <th>Q14.4</th>\n",
       "      <th>Q14.5</th>\n",
       "      <th>Q17</th>\n",
       "      <th>Q18</th>\n",
       "      <th>Q19</th>\n",
       "      <th>Q20</th>\n",
       "      <th>Q21</th>\n",
       "      <th>Q22</th>\n",
       "      <th>Q23</th>\n",
       "      <th>Q24</th>\n",
       "      <th>Q25</th>\n",
       "    </tr>\n",
       "  </thead>\n",
       "  <tbody>\n",
       "    <tr>\n",
       "      <th>0</th>\n",
       "      <td>1.0</td>\n",
       "      <td>NaN</td>\n",
       "      <td>1.0</td>\n",
       "      <td>NaN</td>\n",
       "      <td>NaN</td>\n",
       "      <td>NaN</td>\n",
       "      <td>NaN</td>\n",
       "      <td>NaN</td>\n",
       "      <td>1 تا 2 ساعت</td>\n",
       "      <td>بزرگراه ها، آزادراه ها و اتوبان ها</td>\n",
       "      <td>معابر اصلی (خیابان )</td>\n",
       "      <td>معابر فرعی (مثل کوچه )</td>\n",
       "      <td>زیاد</td>\n",
       "      <td>متوسط</td>\n",
       "      <td>متوسط</td>\n",
       "      <td>متوسط</td>\n",
       "      <td>متوسط</td>\n",
       "      <td>بد</td>\n",
       "      <td>خوب</td>\n",
       "      <td>بد</td>\n",
       "      <td>کمی بهتر شده</td>\n",
       "      <td>بله، اما محدود و موردی</td>\n",
       "      <td>مشاهده مستقیم در سطح معابر</td>\n",
       "      <td>اخبار صدا و سیما</td>\n",
       "      <td>NaN</td>\n",
       "      <td>NaN</td>\n",
       "      <td>NaN</td>\n",
       "      <td>زن</td>\n",
       "      <td>55 تا 64</td>\n",
       "      <td>کاردانی و کارشناسی</td>\n",
       "      <td>بازنشسته</td>\n",
       "      <td>خیر</td>\n",
       "      <td>4 تا 5 نفر</td>\n",
       "      <td>10 تا 20 میلیون تومان</td>\n",
       "      <td>1</td>\n",
       "      <td>محلاتی</td>\n",
       "    </tr>\n",
       "    <tr>\n",
       "      <th>1</th>\n",
       "      <td>1.0</td>\n",
       "      <td>NaN</td>\n",
       "      <td>NaN</td>\n",
       "      <td>NaN</td>\n",
       "      <td>NaN</td>\n",
       "      <td>NaN</td>\n",
       "      <td>NaN</td>\n",
       "      <td>NaN</td>\n",
       "      <td>کمتر از 1 ساعت</td>\n",
       "      <td>معابر فرعی (مثل کوچه )</td>\n",
       "      <td>معابر اصلی (خیابان )</td>\n",
       "      <td>NaN</td>\n",
       "      <td>متوسط</td>\n",
       "      <td>متوسط</td>\n",
       "      <td>متوسط</td>\n",
       "      <td>خوب</td>\n",
       "      <td>بد</td>\n",
       "      <td>متوسط</td>\n",
       "      <td>خوب</td>\n",
       "      <td>خوب</td>\n",
       "      <td>کمی بهتر شده</td>\n",
       "      <td>بله، اما محدود و موردی</td>\n",
       "      <td>NaN</td>\n",
       "      <td>NaN</td>\n",
       "      <td>NaN</td>\n",
       "      <td>NaN</td>\n",
       "      <td>NaN</td>\n",
       "      <td>مرد</td>\n",
       "      <td>55 تا 64</td>\n",
       "      <td>فوق لیسانس و بالاتر</td>\n",
       "      <td>بازنشسته</td>\n",
       "      <td>بله</td>\n",
       "      <td>2 تا 3 نفر</td>\n",
       "      <td>بی پاسخ</td>\n",
       "      <td>5</td>\n",
       "      <td>کاشانی</td>\n",
       "    </tr>\n",
       "    <tr>\n",
       "      <th>2</th>\n",
       "      <td>NaN</td>\n",
       "      <td>NaN</td>\n",
       "      <td>NaN</td>\n",
       "      <td>1.0</td>\n",
       "      <td>NaN</td>\n",
       "      <td>NaN</td>\n",
       "      <td>NaN</td>\n",
       "      <td>1.0</td>\n",
       "      <td>بیش از 3 ساعت</td>\n",
       "      <td>معابر فرعی (مثل کوچه )</td>\n",
       "      <td>NaN</td>\n",
       "      <td>بزرگراه ها، آزادراه ها و اتوبان ها</td>\n",
       "      <td>متوسط</td>\n",
       "      <td>خیلی کم</td>\n",
       "      <td>متوسط</td>\n",
       "      <td>متوسط</td>\n",
       "      <td>خوب</td>\n",
       "      <td>متوسط</td>\n",
       "      <td>بد</td>\n",
       "      <td>خیلی بد</td>\n",
       "      <td>تغییر محسوسی نداشته</td>\n",
       "      <td>خیر</td>\n",
       "      <td>NaN</td>\n",
       "      <td>NaN</td>\n",
       "      <td>NaN</td>\n",
       "      <td>NaN</td>\n",
       "      <td>NaN</td>\n",
       "      <td>مرد</td>\n",
       "      <td>45 تا 54</td>\n",
       "      <td>دیپلم</td>\n",
       "      <td>شاغل (دولتی، خصوصی، آزاد)</td>\n",
       "      <td>خیر</td>\n",
       "      <td>4 تا 5 نفر</td>\n",
       "      <td>10 تا 20 میلیون تومان</td>\n",
       "      <td>2</td>\n",
       "      <td>چمران</td>\n",
       "    </tr>\n",
       "    <tr>\n",
       "      <th>3</th>\n",
       "      <td>1.0</td>\n",
       "      <td>NaN</td>\n",
       "      <td>1.0</td>\n",
       "      <td>NaN</td>\n",
       "      <td>NaN</td>\n",
       "      <td>NaN</td>\n",
       "      <td>NaN</td>\n",
       "      <td>NaN</td>\n",
       "      <td>کمتر از 1 ساعت</td>\n",
       "      <td>بزرگراه ها، آزادراه ها و اتوبان ها</td>\n",
       "      <td>معابر اصلی (خیابان )</td>\n",
       "      <td>معابر فرعی (مثل کوچه )</td>\n",
       "      <td>خیلی کم</td>\n",
       "      <td>خیلی کم</td>\n",
       "      <td>خیلی کم</td>\n",
       "      <td>متوسط</td>\n",
       "      <td>متوسط</td>\n",
       "      <td>بد</td>\n",
       "      <td>بد</td>\n",
       "      <td>خوب</td>\n",
       "      <td>کمی بدتر شده</td>\n",
       "      <td>خیر</td>\n",
       "      <td>مشاهده مستقیم در سطح معابر</td>\n",
       "      <td>NaN</td>\n",
       "      <td>NaN</td>\n",
       "      <td>NaN</td>\n",
       "      <td>NaN</td>\n",
       "      <td>زن</td>\n",
       "      <td>35 تا 44</td>\n",
       "      <td>کاردانی و کارشناسی</td>\n",
       "      <td>خانه دار</td>\n",
       "      <td>خیر</td>\n",
       "      <td>4 تا 5 نفر</td>\n",
       "      <td>بی پاسخ</td>\n",
       "      <td>1</td>\n",
       "      <td>محلاتی</td>\n",
       "    </tr>\n",
       "    <tr>\n",
       "      <th>4</th>\n",
       "      <td>1.0</td>\n",
       "      <td>NaN</td>\n",
       "      <td>NaN</td>\n",
       "      <td>NaN</td>\n",
       "      <td>NaN</td>\n",
       "      <td>NaN</td>\n",
       "      <td>NaN</td>\n",
       "      <td>NaN</td>\n",
       "      <td>کمتر از 1 ساعت</td>\n",
       "      <td>بزرگراه ها، آزادراه ها و اتوبان ها</td>\n",
       "      <td>معابر اصلی (خیابان )</td>\n",
       "      <td>NaN</td>\n",
       "      <td>متوسط</td>\n",
       "      <td>متوسط</td>\n",
       "      <td>متوسط</td>\n",
       "      <td>بد</td>\n",
       "      <td>بد</td>\n",
       "      <td>بد</td>\n",
       "      <td>بد</td>\n",
       "      <td>متوسط</td>\n",
       "      <td>کمی بهتر شده</td>\n",
       "      <td>بله، اما محدود و موردی</td>\n",
       "      <td>NaN</td>\n",
       "      <td>NaN</td>\n",
       "      <td>NaN</td>\n",
       "      <td>NaN</td>\n",
       "      <td>NaN</td>\n",
       "      <td>مرد</td>\n",
       "      <td>35 تا 44</td>\n",
       "      <td>دیپلم</td>\n",
       "      <td>شاغل (دولتی، خصوصی، آزاد)</td>\n",
       "      <td>خیر</td>\n",
       "      <td>2 تا 3 نفر</td>\n",
       "      <td>کمتر از 10 میلیون تومان</td>\n",
       "      <td>5</td>\n",
       "      <td>کاشانی</td>\n",
       "    </tr>\n",
       "  </tbody>\n",
       "</table>\n",
       "</div>"
      ],
      "text/plain": [
       "   Q1.1  Q1.2  Q1.3  Q1.4  Q1.5  Q1.6  Q1.7  Q1.8              Q2  \\\n",
       "0   1.0   NaN   1.0   NaN   NaN   NaN   NaN   NaN     1 تا 2 ساعت   \n",
       "1   1.0   NaN   NaN   NaN   NaN   NaN   NaN   NaN  کمتر از 1 ساعت   \n",
       "2   NaN   NaN   NaN   1.0   NaN   NaN   NaN   1.0   بیش از 3 ساعت   \n",
       "3   1.0   NaN   1.0   NaN   NaN   NaN   NaN   NaN  کمتر از 1 ساعت   \n",
       "4   1.0   NaN   NaN   NaN   NaN   NaN   NaN   NaN  کمتر از 1 ساعت   \n",
       "\n",
       "                                 Q3.1                  Q3.2  \\\n",
       "0  بزرگراه ها، آزادراه ها و اتوبان ها  معابر اصلی (خیابان )   \n",
       "1              معابر فرعی (مثل کوچه )  معابر اصلی (خیابان )   \n",
       "2              معابر فرعی (مثل کوچه )                   NaN   \n",
       "3  بزرگراه ها، آزادراه ها و اتوبان ها  معابر اصلی (خیابان )   \n",
       "4  بزرگراه ها، آزادراه ها و اتوبان ها  معابر اصلی (خیابان )   \n",
       "\n",
       "                                 Q3.3       Q4       Q5       Q6     Q7  \\\n",
       "0              معابر فرعی (مثل کوچه )     زیاد    متوسط    متوسط  متوسط   \n",
       "1                                 NaN    متوسط    متوسط    متوسط    خوب   \n",
       "2  بزرگراه ها، آزادراه ها و اتوبان ها    متوسط  خیلی کم    متوسط  متوسط   \n",
       "3              معابر فرعی (مثل کوچه )  خیلی کم  خیلی کم  خیلی کم  متوسط   \n",
       "4                                 NaN    متوسط    متوسط    متوسط     بد   \n",
       "\n",
       "      Q8     Q9  Q10      Q11                  Q12                     Q13  \\\n",
       "0  متوسط     بد  خوب       بد         کمی بهتر شده  بله، اما محدود و موردی   \n",
       "1     بد  متوسط  خوب      خوب         کمی بهتر شده  بله، اما محدود و موردی   \n",
       "2    خوب  متوسط   بد  خیلی بد  تغییر محسوسی نداشته                     خیر   \n",
       "3  متوسط     بد   بد      خوب         کمی بدتر شده                     خیر   \n",
       "4     بد     بد   بد    متوسط         کمی بهتر شده  بله، اما محدود و موردی   \n",
       "\n",
       "                        Q14.1             Q14.2 Q14.3 Q14.4 Q14.5  Q17  \\\n",
       "0  مشاهده مستقیم در سطح معابر  اخبار صدا و سیما   NaN   NaN   NaN   زن   \n",
       "1                         NaN               NaN   NaN   NaN   NaN  مرد   \n",
       "2                         NaN               NaN   NaN   NaN   NaN  مرد   \n",
       "3  مشاهده مستقیم در سطح معابر               NaN   NaN   NaN   NaN   زن   \n",
       "4                         NaN               NaN   NaN   NaN   NaN  مرد   \n",
       "\n",
       "        Q18                  Q19                        Q20  Q21         Q22  \\\n",
       "0  55 تا 64   کاردانی و کارشناسی                   بازنشسته  خیر  4 تا 5 نفر   \n",
       "1  55 تا 64  فوق لیسانس و بالاتر                   بازنشسته  بله  2 تا 3 نفر   \n",
       "2  45 تا 54               دیپلم   شاغل (دولتی، خصوصی، آزاد)  خیر  4 تا 5 نفر   \n",
       "3  35 تا 44   کاردانی و کارشناسی                   خانه دار  خیر  4 تا 5 نفر   \n",
       "4  35 تا 44               دیپلم   شاغل (دولتی، خصوصی، آزاد)  خیر  2 تا 3 نفر   \n",
       "\n",
       "                       Q23  Q24     Q25  \n",
       "0    10 تا 20 میلیون تومان    1  محلاتی  \n",
       "1                  بی پاسخ    5  کاشانی  \n",
       "2    10 تا 20 میلیون تومان    2   چمران  \n",
       "3                  بی پاسخ    1  محلاتی  \n",
       "4  کمتر از 10 میلیون تومان    5  کاشانی  "
      ]
     },
     "execution_count": 5,
     "metadata": {},
     "output_type": "execute_result"
    }
   ],
   "source": [
    "df = df.drop(['PK', 'blank'], axis=1)\n",
    "df.head()"
   ]
  },
  {
   "cell_type": "markdown",
   "metadata": {},
   "source": [
    "# Q1"
   ]
  },
  {
   "cell_type": "code",
   "execution_count": 6,
   "metadata": {},
   "outputs": [],
   "source": [
    "q1 = df[['Q1.1', 'Q1.2', 'Q1.3', 'Q1.4', 'Q1.5', 'Q1.6', 'Q1.7', 'Q1.8']]"
   ]
  },
  {
   "cell_type": "code",
   "execution_count": 7,
   "metadata": {},
   "outputs": [],
   "source": [
    "\n",
    "q1_map = {\n",
    "    q1.columns[0] : df_guide.loc[:8,:]['text'].drop(0)[1],\n",
    "    q1.columns[1] : df_guide.loc[:8,:]['text'].drop(0)[2],\n",
    "    q1.columns[2] : df_guide.loc[:8,:]['text'].drop(0)[3],\n",
    "    q1.columns[3] : df_guide.loc[:8,:]['text'].drop(0)[4],\n",
    "    q1.columns[4] : df_guide.loc[:8,:]['text'].drop(0)[5],\n",
    "    q1.columns[5] : df_guide.loc[:8,:]['text'].drop(0)[6],\n",
    "    q1.columns[6] : df_guide.loc[:8,:]['text'].drop(0)[7],\n",
    "    q1.columns[7] : df_guide.loc[:8,:]['text'].drop(0)[8]\n",
    "}"
   ]
  },
  {
   "cell_type": "code",
   "execution_count": null,
   "metadata": {},
   "outputs": [],
   "source": []
  },
  {
   "cell_type": "code",
   "execution_count": 11,
   "metadata": {},
   "outputs": [
    {
     "data": {
      "text/plain": [
       "\n",
       "خودروی شخصی                            34.097109\n",
       "مترو                                   18.876159\n",
       "تاکسی اینترنتی (مانند اسنپ و تپسی)     13.638843\n",
       "اتوبوس یا مینی بوس                     11.183852\n",
       "پیاده روی                              10.529187\n",
       "موتورسیکلت                              7.528642\n",
       "تاکسی خطی و گردشی                       3.764321\n",
       "دوچرخه                                  0.381888\n",
       "Name: proportion, dtype: float64"
      ]
     },
     "execution_count": 11,
     "metadata": {},
     "output_type": "execute_result"
    }
   ],
   "source": [
    "cnt_q1 = q1.stack().reset_index()['level_1'].value_counts(normalize=True) * 100\n",
    "cnt_q1.index = cnt_q1.index.map(q1_map)\n",
    "cnt_q1.index.name = ''\n",
    "cnt_q1"
   ]
  },
  {
   "cell_type": "code",
   "execution_count": 12,
   "metadata": {},
   "outputs": [
    {
     "data": {
      "application/vnd.plotly.v1+json": {
       "config": {
        "plotlyServerURL": "https://plot.ly"
       },
       "data": [
        {
         "alignmentgroup": "True",
         "hovertemplate": "Categories=%{x}<br>Values=%{text}<extra></extra>",
         "legendgroup": "",
         "marker": {
          "color": "#636efa",
          "pattern": {
           "shape": ""
          }
         },
         "name": "",
         "offsetgroup": "",
         "orientation": "v",
         "showlegend": false,
         "text": [
          34.09710856519367,
          18.876159301691217,
          13.638843426077468,
          11.183851609383524,
          10.529187124931806,
          7.528641571194762,
          3.764320785597381,
          0.3818876159301691
         ],
         "textfont": {
          "color": "black",
          "family": "B Nazanin",
          "size": 16
         },
         "textposition": "outside",
         "texttemplate": "%{text}%",
         "type": "bar",
         "x": [
          "خودروی شخصی",
          "مترو",
          "تاکسی اینترنتی (مانند اسنپ و تپسی) ",
          "اتوبوس یا مینی بوس",
          "پیاده روی",
          "موتورسیکلت",
          "تاکسی خطی و گردشی",
          "دوچرخه "
         ],
         "xaxis": "x",
         "y": [
          34.09710856519367,
          18.876159301691217,
          13.638843426077468,
          11.183851609383524,
          10.529187124931806,
          7.528641571194762,
          3.764320785597381,
          0.3818876159301691
         ],
         "yaxis": "y"
        }
       ],
       "layout": {
        "barmode": "relative",
        "font": {
         "color": "black",
         "family": "B Nazanin",
         "size": 16
        },
        "legend": {
         "tracegroupgap": 0
        },
        "margin": {
         "t": 60
        },
        "showlegend": false,
        "template": {
         "data": {
          "bar": [
           {
            "error_x": {
             "color": "#2a3f5f"
            },
            "error_y": {
             "color": "#2a3f5f"
            },
            "marker": {
             "line": {
              "color": "#E5ECF6",
              "width": 0.5
             },
             "pattern": {
              "fillmode": "overlay",
              "size": 10,
              "solidity": 0.2
             }
            },
            "type": "bar"
           }
          ],
          "barpolar": [
           {
            "marker": {
             "line": {
              "color": "#E5ECF6",
              "width": 0.5
             },
             "pattern": {
              "fillmode": "overlay",
              "size": 10,
              "solidity": 0.2
             }
            },
            "type": "barpolar"
           }
          ],
          "carpet": [
           {
            "aaxis": {
             "endlinecolor": "#2a3f5f",
             "gridcolor": "white",
             "linecolor": "white",
             "minorgridcolor": "white",
             "startlinecolor": "#2a3f5f"
            },
            "baxis": {
             "endlinecolor": "#2a3f5f",
             "gridcolor": "white",
             "linecolor": "white",
             "minorgridcolor": "white",
             "startlinecolor": "#2a3f5f"
            },
            "type": "carpet"
           }
          ],
          "choropleth": [
           {
            "colorbar": {
             "outlinewidth": 0,
             "ticks": ""
            },
            "type": "choropleth"
           }
          ],
          "contour": [
           {
            "colorbar": {
             "outlinewidth": 0,
             "ticks": ""
            },
            "colorscale": [
             [
              0,
              "#0d0887"
             ],
             [
              0.1111111111111111,
              "#46039f"
             ],
             [
              0.2222222222222222,
              "#7201a8"
             ],
             [
              0.3333333333333333,
              "#9c179e"
             ],
             [
              0.4444444444444444,
              "#bd3786"
             ],
             [
              0.5555555555555556,
              "#d8576b"
             ],
             [
              0.6666666666666666,
              "#ed7953"
             ],
             [
              0.7777777777777778,
              "#fb9f3a"
             ],
             [
              0.8888888888888888,
              "#fdca26"
             ],
             [
              1,
              "#f0f921"
             ]
            ],
            "type": "contour"
           }
          ],
          "contourcarpet": [
           {
            "colorbar": {
             "outlinewidth": 0,
             "ticks": ""
            },
            "type": "contourcarpet"
           }
          ],
          "heatmap": [
           {
            "colorbar": {
             "outlinewidth": 0,
             "ticks": ""
            },
            "colorscale": [
             [
              0,
              "#0d0887"
             ],
             [
              0.1111111111111111,
              "#46039f"
             ],
             [
              0.2222222222222222,
              "#7201a8"
             ],
             [
              0.3333333333333333,
              "#9c179e"
             ],
             [
              0.4444444444444444,
              "#bd3786"
             ],
             [
              0.5555555555555556,
              "#d8576b"
             ],
             [
              0.6666666666666666,
              "#ed7953"
             ],
             [
              0.7777777777777778,
              "#fb9f3a"
             ],
             [
              0.8888888888888888,
              "#fdca26"
             ],
             [
              1,
              "#f0f921"
             ]
            ],
            "type": "heatmap"
           }
          ],
          "heatmapgl": [
           {
            "colorbar": {
             "outlinewidth": 0,
             "ticks": ""
            },
            "colorscale": [
             [
              0,
              "#0d0887"
             ],
             [
              0.1111111111111111,
              "#46039f"
             ],
             [
              0.2222222222222222,
              "#7201a8"
             ],
             [
              0.3333333333333333,
              "#9c179e"
             ],
             [
              0.4444444444444444,
              "#bd3786"
             ],
             [
              0.5555555555555556,
              "#d8576b"
             ],
             [
              0.6666666666666666,
              "#ed7953"
             ],
             [
              0.7777777777777778,
              "#fb9f3a"
             ],
             [
              0.8888888888888888,
              "#fdca26"
             ],
             [
              1,
              "#f0f921"
             ]
            ],
            "type": "heatmapgl"
           }
          ],
          "histogram": [
           {
            "marker": {
             "pattern": {
              "fillmode": "overlay",
              "size": 10,
              "solidity": 0.2
             }
            },
            "type": "histogram"
           }
          ],
          "histogram2d": [
           {
            "colorbar": {
             "outlinewidth": 0,
             "ticks": ""
            },
            "colorscale": [
             [
              0,
              "#0d0887"
             ],
             [
              0.1111111111111111,
              "#46039f"
             ],
             [
              0.2222222222222222,
              "#7201a8"
             ],
             [
              0.3333333333333333,
              "#9c179e"
             ],
             [
              0.4444444444444444,
              "#bd3786"
             ],
             [
              0.5555555555555556,
              "#d8576b"
             ],
             [
              0.6666666666666666,
              "#ed7953"
             ],
             [
              0.7777777777777778,
              "#fb9f3a"
             ],
             [
              0.8888888888888888,
              "#fdca26"
             ],
             [
              1,
              "#f0f921"
             ]
            ],
            "type": "histogram2d"
           }
          ],
          "histogram2dcontour": [
           {
            "colorbar": {
             "outlinewidth": 0,
             "ticks": ""
            },
            "colorscale": [
             [
              0,
              "#0d0887"
             ],
             [
              0.1111111111111111,
              "#46039f"
             ],
             [
              0.2222222222222222,
              "#7201a8"
             ],
             [
              0.3333333333333333,
              "#9c179e"
             ],
             [
              0.4444444444444444,
              "#bd3786"
             ],
             [
              0.5555555555555556,
              "#d8576b"
             ],
             [
              0.6666666666666666,
              "#ed7953"
             ],
             [
              0.7777777777777778,
              "#fb9f3a"
             ],
             [
              0.8888888888888888,
              "#fdca26"
             ],
             [
              1,
              "#f0f921"
             ]
            ],
            "type": "histogram2dcontour"
           }
          ],
          "mesh3d": [
           {
            "colorbar": {
             "outlinewidth": 0,
             "ticks": ""
            },
            "type": "mesh3d"
           }
          ],
          "parcoords": [
           {
            "line": {
             "colorbar": {
              "outlinewidth": 0,
              "ticks": ""
             }
            },
            "type": "parcoords"
           }
          ],
          "pie": [
           {
            "automargin": true,
            "type": "pie"
           }
          ],
          "scatter": [
           {
            "fillpattern": {
             "fillmode": "overlay",
             "size": 10,
             "solidity": 0.2
            },
            "type": "scatter"
           }
          ],
          "scatter3d": [
           {
            "line": {
             "colorbar": {
              "outlinewidth": 0,
              "ticks": ""
             }
            },
            "marker": {
             "colorbar": {
              "outlinewidth": 0,
              "ticks": ""
             }
            },
            "type": "scatter3d"
           }
          ],
          "scattercarpet": [
           {
            "marker": {
             "colorbar": {
              "outlinewidth": 0,
              "ticks": ""
             }
            },
            "type": "scattercarpet"
           }
          ],
          "scattergeo": [
           {
            "marker": {
             "colorbar": {
              "outlinewidth": 0,
              "ticks": ""
             }
            },
            "type": "scattergeo"
           }
          ],
          "scattergl": [
           {
            "marker": {
             "colorbar": {
              "outlinewidth": 0,
              "ticks": ""
             }
            },
            "type": "scattergl"
           }
          ],
          "scattermapbox": [
           {
            "marker": {
             "colorbar": {
              "outlinewidth": 0,
              "ticks": ""
             }
            },
            "type": "scattermapbox"
           }
          ],
          "scatterpolar": [
           {
            "marker": {
             "colorbar": {
              "outlinewidth": 0,
              "ticks": ""
             }
            },
            "type": "scatterpolar"
           }
          ],
          "scatterpolargl": [
           {
            "marker": {
             "colorbar": {
              "outlinewidth": 0,
              "ticks": ""
             }
            },
            "type": "scatterpolargl"
           }
          ],
          "scatterternary": [
           {
            "marker": {
             "colorbar": {
              "outlinewidth": 0,
              "ticks": ""
             }
            },
            "type": "scatterternary"
           }
          ],
          "surface": [
           {
            "colorbar": {
             "outlinewidth": 0,
             "ticks": ""
            },
            "colorscale": [
             [
              0,
              "#0d0887"
             ],
             [
              0.1111111111111111,
              "#46039f"
             ],
             [
              0.2222222222222222,
              "#7201a8"
             ],
             [
              0.3333333333333333,
              "#9c179e"
             ],
             [
              0.4444444444444444,
              "#bd3786"
             ],
             [
              0.5555555555555556,
              "#d8576b"
             ],
             [
              0.6666666666666666,
              "#ed7953"
             ],
             [
              0.7777777777777778,
              "#fb9f3a"
             ],
             [
              0.8888888888888888,
              "#fdca26"
             ],
             [
              1,
              "#f0f921"
             ]
            ],
            "type": "surface"
           }
          ],
          "table": [
           {
            "cells": {
             "fill": {
              "color": "#EBF0F8"
             },
             "line": {
              "color": "white"
             }
            },
            "header": {
             "fill": {
              "color": "#C8D4E3"
             },
             "line": {
              "color": "white"
             }
            },
            "type": "table"
           }
          ]
         },
         "layout": {
          "annotationdefaults": {
           "arrowcolor": "#2a3f5f",
           "arrowhead": 0,
           "arrowwidth": 1
          },
          "autotypenumbers": "strict",
          "coloraxis": {
           "colorbar": {
            "outlinewidth": 0,
            "ticks": ""
           }
          },
          "colorscale": {
           "diverging": [
            [
             0,
             "#8e0152"
            ],
            [
             0.1,
             "#c51b7d"
            ],
            [
             0.2,
             "#de77ae"
            ],
            [
             0.3,
             "#f1b6da"
            ],
            [
             0.4,
             "#fde0ef"
            ],
            [
             0.5,
             "#f7f7f7"
            ],
            [
             0.6,
             "#e6f5d0"
            ],
            [
             0.7,
             "#b8e186"
            ],
            [
             0.8,
             "#7fbc41"
            ],
            [
             0.9,
             "#4d9221"
            ],
            [
             1,
             "#276419"
            ]
           ],
           "sequential": [
            [
             0,
             "#0d0887"
            ],
            [
             0.1111111111111111,
             "#46039f"
            ],
            [
             0.2222222222222222,
             "#7201a8"
            ],
            [
             0.3333333333333333,
             "#9c179e"
            ],
            [
             0.4444444444444444,
             "#bd3786"
            ],
            [
             0.5555555555555556,
             "#d8576b"
            ],
            [
             0.6666666666666666,
             "#ed7953"
            ],
            [
             0.7777777777777778,
             "#fb9f3a"
            ],
            [
             0.8888888888888888,
             "#fdca26"
            ],
            [
             1,
             "#f0f921"
            ]
           ],
           "sequentialminus": [
            [
             0,
             "#0d0887"
            ],
            [
             0.1111111111111111,
             "#46039f"
            ],
            [
             0.2222222222222222,
             "#7201a8"
            ],
            [
             0.3333333333333333,
             "#9c179e"
            ],
            [
             0.4444444444444444,
             "#bd3786"
            ],
            [
             0.5555555555555556,
             "#d8576b"
            ],
            [
             0.6666666666666666,
             "#ed7953"
            ],
            [
             0.7777777777777778,
             "#fb9f3a"
            ],
            [
             0.8888888888888888,
             "#fdca26"
            ],
            [
             1,
             "#f0f921"
            ]
           ]
          },
          "colorway": [
           "#636efa",
           "#EF553B",
           "#00cc96",
           "#ab63fa",
           "#FFA15A",
           "#19d3f3",
           "#FF6692",
           "#B6E880",
           "#FF97FF",
           "#FECB52"
          ],
          "font": {
           "color": "#2a3f5f"
          },
          "geo": {
           "bgcolor": "white",
           "lakecolor": "white",
           "landcolor": "#E5ECF6",
           "showlakes": true,
           "showland": true,
           "subunitcolor": "white"
          },
          "hoverlabel": {
           "align": "left"
          },
          "hovermode": "closest",
          "mapbox": {
           "style": "light"
          },
          "paper_bgcolor": "white",
          "plot_bgcolor": "#E5ECF6",
          "polar": {
           "angularaxis": {
            "gridcolor": "white",
            "linecolor": "white",
            "ticks": ""
           },
           "bgcolor": "#E5ECF6",
           "radialaxis": {
            "gridcolor": "white",
            "linecolor": "white",
            "ticks": ""
           }
          },
          "scene": {
           "xaxis": {
            "backgroundcolor": "#E5ECF6",
            "gridcolor": "white",
            "gridwidth": 2,
            "linecolor": "white",
            "showbackground": true,
            "ticks": "",
            "zerolinecolor": "white"
           },
           "yaxis": {
            "backgroundcolor": "#E5ECF6",
            "gridcolor": "white",
            "gridwidth": 2,
            "linecolor": "white",
            "showbackground": true,
            "ticks": "",
            "zerolinecolor": "white"
           },
           "zaxis": {
            "backgroundcolor": "#E5ECF6",
            "gridcolor": "white",
            "gridwidth": 2,
            "linecolor": "white",
            "showbackground": true,
            "ticks": "",
            "zerolinecolor": "white"
           }
          },
          "shapedefaults": {
           "line": {
            "color": "#2a3f5f"
           }
          },
          "ternary": {
           "aaxis": {
            "gridcolor": "white",
            "linecolor": "white",
            "ticks": ""
           },
           "baxis": {
            "gridcolor": "white",
            "linecolor": "white",
            "ticks": ""
           },
           "bgcolor": "#E5ECF6",
           "caxis": {
            "gridcolor": "white",
            "linecolor": "white",
            "ticks": ""
           }
          },
          "title": {
           "x": 0.05
          },
          "xaxis": {
           "automargin": true,
           "gridcolor": "white",
           "linecolor": "white",
           "ticks": "",
           "title": {
            "standoff": 15
           },
           "zerolinecolor": "white",
           "zerolinewidth": 2
          },
          "yaxis": {
           "automargin": true,
           "gridcolor": "white",
           "linecolor": "white",
           "ticks": "",
           "title": {
            "standoff": 15
           },
           "zerolinecolor": "white",
           "zerolinewidth": 2
          }
         }
        },
        "title": {
         "text": "از چه وسایل نقلیه ای برای تردد روزانه در شهر استفاده می کنید؟ (حداکثر 2 گزینه)",
         "x": 0.5,
         "y": 1
        },
        "xaxis": {
         "anchor": "y",
         "domain": [
          0,
          1
         ],
         "title": {}
        },
        "yaxis": {
         "anchor": "x",
         "domain": [
          0,
          1
         ],
         "title": {
          "text": "فراوانی (%)"
         }
        }
       }
      },
      "text/html": [
       "<div>                            <div id=\"141a01da-4e13-48aa-9dc7-da06da6804f8\" class=\"plotly-graph-div\" style=\"height:525px; width:100%;\"></div>            <script type=\"text/javascript\">                require([\"plotly\"], function(Plotly) {                    window.PLOTLYENV=window.PLOTLYENV || {};                                    if (document.getElementById(\"141a01da-4e13-48aa-9dc7-da06da6804f8\")) {                    Plotly.newPlot(                        \"141a01da-4e13-48aa-9dc7-da06da6804f8\",                        [{\"alignmentgroup\":\"True\",\"hovertemplate\":\"Categories=%{x}\\u003cbr\\u003eValues=%{text}\\u003cextra\\u003e\\u003c\\u002fextra\\u003e\",\"legendgroup\":\"\",\"marker\":{\"color\":\"#636efa\",\"pattern\":{\"shape\":\"\"}},\"name\":\"\",\"offsetgroup\":\"\",\"orientation\":\"v\",\"showlegend\":false,\"text\":[34.09710856519367,18.876159301691217,13.638843426077468,11.183851609383524,10.529187124931806,7.528641571194762,3.764320785597381,0.3818876159301691],\"textposition\":\"outside\",\"x\":[\"\\u062e\\u0648\\u062f\\u0631\\u0648\\u06cc \\u0634\\u062e\\u0635\\u06cc\",\"\\u0645\\u062a\\u0631\\u0648\",\"\\u062a\\u0627\\u06a9\\u0633\\u06cc \\u0627\\u06cc\\u0646\\u062a\\u0631\\u0646\\u062a\\u06cc (\\u0645\\u0627\\u0646\\u0646\\u062f \\u0627\\u0633\\u0646\\u067e \\u0648 \\u062a\\u067e\\u0633\\u06cc) \",\"\\u0627\\u062a\\u0648\\u0628\\u0648\\u0633 \\u06cc\\u0627 \\u0645\\u06cc\\u0646\\u06cc \\u0628\\u0648\\u0633\",\"\\u067e\\u06cc\\u0627\\u062f\\u0647 \\u0631\\u0648\\u06cc\",\"\\u0645\\u0648\\u062a\\u0648\\u0631\\u0633\\u06cc\\u06a9\\u0644\\u062a\",\"\\u062a\\u0627\\u06a9\\u0633\\u06cc \\u062e\\u0637\\u06cc \\u0648 \\u06af\\u0631\\u062f\\u0634\\u06cc\",\"\\u062f\\u0648\\u0686\\u0631\\u062e\\u0647 \"],\"xaxis\":\"x\",\"y\":[34.09710856519367,18.876159301691217,13.638843426077468,11.183851609383524,10.529187124931806,7.528641571194762,3.764320785597381,0.3818876159301691],\"yaxis\":\"y\",\"type\":\"bar\",\"textfont\":{\"color\":\"black\",\"family\":\"B Nazanin\",\"size\":16},\"texttemplate\":\"%{text}%\"}],                        {\"template\":{\"data\":{\"histogram2dcontour\":[{\"type\":\"histogram2dcontour\",\"colorbar\":{\"outlinewidth\":0,\"ticks\":\"\"},\"colorscale\":[[0.0,\"#0d0887\"],[0.1111111111111111,\"#46039f\"],[0.2222222222222222,\"#7201a8\"],[0.3333333333333333,\"#9c179e\"],[0.4444444444444444,\"#bd3786\"],[0.5555555555555556,\"#d8576b\"],[0.6666666666666666,\"#ed7953\"],[0.7777777777777778,\"#fb9f3a\"],[0.8888888888888888,\"#fdca26\"],[1.0,\"#f0f921\"]]}],\"choropleth\":[{\"type\":\"choropleth\",\"colorbar\":{\"outlinewidth\":0,\"ticks\":\"\"}}],\"histogram2d\":[{\"type\":\"histogram2d\",\"colorbar\":{\"outlinewidth\":0,\"ticks\":\"\"},\"colorscale\":[[0.0,\"#0d0887\"],[0.1111111111111111,\"#46039f\"],[0.2222222222222222,\"#7201a8\"],[0.3333333333333333,\"#9c179e\"],[0.4444444444444444,\"#bd3786\"],[0.5555555555555556,\"#d8576b\"],[0.6666666666666666,\"#ed7953\"],[0.7777777777777778,\"#fb9f3a\"],[0.8888888888888888,\"#fdca26\"],[1.0,\"#f0f921\"]]}],\"heatmap\":[{\"type\":\"heatmap\",\"colorbar\":{\"outlinewidth\":0,\"ticks\":\"\"},\"colorscale\":[[0.0,\"#0d0887\"],[0.1111111111111111,\"#46039f\"],[0.2222222222222222,\"#7201a8\"],[0.3333333333333333,\"#9c179e\"],[0.4444444444444444,\"#bd3786\"],[0.5555555555555556,\"#d8576b\"],[0.6666666666666666,\"#ed7953\"],[0.7777777777777778,\"#fb9f3a\"],[0.8888888888888888,\"#fdca26\"],[1.0,\"#f0f921\"]]}],\"heatmapgl\":[{\"type\":\"heatmapgl\",\"colorbar\":{\"outlinewidth\":0,\"ticks\":\"\"},\"colorscale\":[[0.0,\"#0d0887\"],[0.1111111111111111,\"#46039f\"],[0.2222222222222222,\"#7201a8\"],[0.3333333333333333,\"#9c179e\"],[0.4444444444444444,\"#bd3786\"],[0.5555555555555556,\"#d8576b\"],[0.6666666666666666,\"#ed7953\"],[0.7777777777777778,\"#fb9f3a\"],[0.8888888888888888,\"#fdca26\"],[1.0,\"#f0f921\"]]}],\"contourcarpet\":[{\"type\":\"contourcarpet\",\"colorbar\":{\"outlinewidth\":0,\"ticks\":\"\"}}],\"contour\":[{\"type\":\"contour\",\"colorbar\":{\"outlinewidth\":0,\"ticks\":\"\"},\"colorscale\":[[0.0,\"#0d0887\"],[0.1111111111111111,\"#46039f\"],[0.2222222222222222,\"#7201a8\"],[0.3333333333333333,\"#9c179e\"],[0.4444444444444444,\"#bd3786\"],[0.5555555555555556,\"#d8576b\"],[0.6666666666666666,\"#ed7953\"],[0.7777777777777778,\"#fb9f3a\"],[0.8888888888888888,\"#fdca26\"],[1.0,\"#f0f921\"]]}],\"surface\":[{\"type\":\"surface\",\"colorbar\":{\"outlinewidth\":0,\"ticks\":\"\"},\"colorscale\":[[0.0,\"#0d0887\"],[0.1111111111111111,\"#46039f\"],[0.2222222222222222,\"#7201a8\"],[0.3333333333333333,\"#9c179e\"],[0.4444444444444444,\"#bd3786\"],[0.5555555555555556,\"#d8576b\"],[0.6666666666666666,\"#ed7953\"],[0.7777777777777778,\"#fb9f3a\"],[0.8888888888888888,\"#fdca26\"],[1.0,\"#f0f921\"]]}],\"mesh3d\":[{\"type\":\"mesh3d\",\"colorbar\":{\"outlinewidth\":0,\"ticks\":\"\"}}],\"scatter\":[{\"fillpattern\":{\"fillmode\":\"overlay\",\"size\":10,\"solidity\":0.2},\"type\":\"scatter\"}],\"parcoords\":[{\"type\":\"parcoords\",\"line\":{\"colorbar\":{\"outlinewidth\":0,\"ticks\":\"\"}}}],\"scatterpolargl\":[{\"type\":\"scatterpolargl\",\"marker\":{\"colorbar\":{\"outlinewidth\":0,\"ticks\":\"\"}}}],\"bar\":[{\"error_x\":{\"color\":\"#2a3f5f\"},\"error_y\":{\"color\":\"#2a3f5f\"},\"marker\":{\"line\":{\"color\":\"#E5ECF6\",\"width\":0.5},\"pattern\":{\"fillmode\":\"overlay\",\"size\":10,\"solidity\":0.2}},\"type\":\"bar\"}],\"scattergeo\":[{\"type\":\"scattergeo\",\"marker\":{\"colorbar\":{\"outlinewidth\":0,\"ticks\":\"\"}}}],\"scatterpolar\":[{\"type\":\"scatterpolar\",\"marker\":{\"colorbar\":{\"outlinewidth\":0,\"ticks\":\"\"}}}],\"histogram\":[{\"marker\":{\"pattern\":{\"fillmode\":\"overlay\",\"size\":10,\"solidity\":0.2}},\"type\":\"histogram\"}],\"scattergl\":[{\"type\":\"scattergl\",\"marker\":{\"colorbar\":{\"outlinewidth\":0,\"ticks\":\"\"}}}],\"scatter3d\":[{\"type\":\"scatter3d\",\"line\":{\"colorbar\":{\"outlinewidth\":0,\"ticks\":\"\"}},\"marker\":{\"colorbar\":{\"outlinewidth\":0,\"ticks\":\"\"}}}],\"scattermapbox\":[{\"type\":\"scattermapbox\",\"marker\":{\"colorbar\":{\"outlinewidth\":0,\"ticks\":\"\"}}}],\"scatterternary\":[{\"type\":\"scatterternary\",\"marker\":{\"colorbar\":{\"outlinewidth\":0,\"ticks\":\"\"}}}],\"scattercarpet\":[{\"type\":\"scattercarpet\",\"marker\":{\"colorbar\":{\"outlinewidth\":0,\"ticks\":\"\"}}}],\"carpet\":[{\"aaxis\":{\"endlinecolor\":\"#2a3f5f\",\"gridcolor\":\"white\",\"linecolor\":\"white\",\"minorgridcolor\":\"white\",\"startlinecolor\":\"#2a3f5f\"},\"baxis\":{\"endlinecolor\":\"#2a3f5f\",\"gridcolor\":\"white\",\"linecolor\":\"white\",\"minorgridcolor\":\"white\",\"startlinecolor\":\"#2a3f5f\"},\"type\":\"carpet\"}],\"table\":[{\"cells\":{\"fill\":{\"color\":\"#EBF0F8\"},\"line\":{\"color\":\"white\"}},\"header\":{\"fill\":{\"color\":\"#C8D4E3\"},\"line\":{\"color\":\"white\"}},\"type\":\"table\"}],\"barpolar\":[{\"marker\":{\"line\":{\"color\":\"#E5ECF6\",\"width\":0.5},\"pattern\":{\"fillmode\":\"overlay\",\"size\":10,\"solidity\":0.2}},\"type\":\"barpolar\"}],\"pie\":[{\"automargin\":true,\"type\":\"pie\"}]},\"layout\":{\"autotypenumbers\":\"strict\",\"colorway\":[\"#636efa\",\"#EF553B\",\"#00cc96\",\"#ab63fa\",\"#FFA15A\",\"#19d3f3\",\"#FF6692\",\"#B6E880\",\"#FF97FF\",\"#FECB52\"],\"font\":{\"color\":\"#2a3f5f\"},\"hovermode\":\"closest\",\"hoverlabel\":{\"align\":\"left\"},\"paper_bgcolor\":\"white\",\"plot_bgcolor\":\"#E5ECF6\",\"polar\":{\"bgcolor\":\"#E5ECF6\",\"angularaxis\":{\"gridcolor\":\"white\",\"linecolor\":\"white\",\"ticks\":\"\"},\"radialaxis\":{\"gridcolor\":\"white\",\"linecolor\":\"white\",\"ticks\":\"\"}},\"ternary\":{\"bgcolor\":\"#E5ECF6\",\"aaxis\":{\"gridcolor\":\"white\",\"linecolor\":\"white\",\"ticks\":\"\"},\"baxis\":{\"gridcolor\":\"white\",\"linecolor\":\"white\",\"ticks\":\"\"},\"caxis\":{\"gridcolor\":\"white\",\"linecolor\":\"white\",\"ticks\":\"\"}},\"coloraxis\":{\"colorbar\":{\"outlinewidth\":0,\"ticks\":\"\"}},\"colorscale\":{\"sequential\":[[0.0,\"#0d0887\"],[0.1111111111111111,\"#46039f\"],[0.2222222222222222,\"#7201a8\"],[0.3333333333333333,\"#9c179e\"],[0.4444444444444444,\"#bd3786\"],[0.5555555555555556,\"#d8576b\"],[0.6666666666666666,\"#ed7953\"],[0.7777777777777778,\"#fb9f3a\"],[0.8888888888888888,\"#fdca26\"],[1.0,\"#f0f921\"]],\"sequentialminus\":[[0.0,\"#0d0887\"],[0.1111111111111111,\"#46039f\"],[0.2222222222222222,\"#7201a8\"],[0.3333333333333333,\"#9c179e\"],[0.4444444444444444,\"#bd3786\"],[0.5555555555555556,\"#d8576b\"],[0.6666666666666666,\"#ed7953\"],[0.7777777777777778,\"#fb9f3a\"],[0.8888888888888888,\"#fdca26\"],[1.0,\"#f0f921\"]],\"diverging\":[[0,\"#8e0152\"],[0.1,\"#c51b7d\"],[0.2,\"#de77ae\"],[0.3,\"#f1b6da\"],[0.4,\"#fde0ef\"],[0.5,\"#f7f7f7\"],[0.6,\"#e6f5d0\"],[0.7,\"#b8e186\"],[0.8,\"#7fbc41\"],[0.9,\"#4d9221\"],[1,\"#276419\"]]},\"xaxis\":{\"gridcolor\":\"white\",\"linecolor\":\"white\",\"ticks\":\"\",\"title\":{\"standoff\":15},\"zerolinecolor\":\"white\",\"automargin\":true,\"zerolinewidth\":2},\"yaxis\":{\"gridcolor\":\"white\",\"linecolor\":\"white\",\"ticks\":\"\",\"title\":{\"standoff\":15},\"zerolinecolor\":\"white\",\"automargin\":true,\"zerolinewidth\":2},\"scene\":{\"xaxis\":{\"backgroundcolor\":\"#E5ECF6\",\"gridcolor\":\"white\",\"linecolor\":\"white\",\"showbackground\":true,\"ticks\":\"\",\"zerolinecolor\":\"white\",\"gridwidth\":2},\"yaxis\":{\"backgroundcolor\":\"#E5ECF6\",\"gridcolor\":\"white\",\"linecolor\":\"white\",\"showbackground\":true,\"ticks\":\"\",\"zerolinecolor\":\"white\",\"gridwidth\":2},\"zaxis\":{\"backgroundcolor\":\"#E5ECF6\",\"gridcolor\":\"white\",\"linecolor\":\"white\",\"showbackground\":true,\"ticks\":\"\",\"zerolinecolor\":\"white\",\"gridwidth\":2}},\"shapedefaults\":{\"line\":{\"color\":\"#2a3f5f\"}},\"annotationdefaults\":{\"arrowcolor\":\"#2a3f5f\",\"arrowhead\":0,\"arrowwidth\":1},\"geo\":{\"bgcolor\":\"white\",\"landcolor\":\"#E5ECF6\",\"subunitcolor\":\"white\",\"showland\":true,\"showlakes\":true,\"lakecolor\":\"white\"},\"title\":{\"x\":0.05},\"mapbox\":{\"style\":\"light\"}}},\"xaxis\":{\"anchor\":\"y\",\"domain\":[0.0,1.0],\"title\":{}},\"yaxis\":{\"anchor\":\"x\",\"domain\":[0.0,1.0],\"title\":{\"text\":\"\\u0641\\u0631\\u0627\\u0648\\u0627\\u0646\\u06cc (%)\"}},\"legend\":{\"tracegroupgap\":0},\"margin\":{\"t\":60},\"barmode\":\"relative\",\"font\":{\"family\":\"B Nazanin\",\"size\":16,\"color\":\"black\"},\"title\":{\"text\":\"\\u0627\\u0632 \\u0686\\u0647 \\u0648\\u0633\\u0627\\u06cc\\u0644 \\u0646\\u0642\\u0644\\u06cc\\u0647 \\u0627\\u06cc \\u0628\\u0631\\u0627\\u06cc \\u062a\\u0631\\u062f\\u062f \\u0631\\u0648\\u0632\\u0627\\u0646\\u0647 \\u062f\\u0631 \\u0634\\u0647\\u0631 \\u0627\\u0633\\u062a\\u0641\\u0627\\u062f\\u0647 \\u0645\\u06cc \\u06a9\\u0646\\u06cc\\u062f\\u061f (\\u062d\\u062f\\u0627\\u06a9\\u062b\\u0631 2 \\u06af\\u0632\\u06cc\\u0646\\u0647)\",\"x\":0.5,\"y\":1},\"showlegend\":false},                        {\"responsive\": true}                    ).then(function(){\n",
       "                            \n",
       "var gd = document.getElementById('141a01da-4e13-48aa-9dc7-da06da6804f8');\n",
       "var x = new MutationObserver(function (mutations, observer) {{\n",
       "        var display = window.getComputedStyle(gd).display;\n",
       "        if (!display || display === 'none') {{\n",
       "            console.log([gd, 'removed!']);\n",
       "            Plotly.purge(gd);\n",
       "            observer.disconnect();\n",
       "        }}\n",
       "}});\n",
       "\n",
       "// Listen for the removal of the full notebook cells\n",
       "var notebookContainer = gd.closest('#notebook-container');\n",
       "if (notebookContainer) {{\n",
       "    x.observe(notebookContainer, {childList: true});\n",
       "}}\n",
       "\n",
       "// Listen for the clearing of the current output cell\n",
       "var outputEl = gd.closest('.output');\n",
       "if (outputEl) {{\n",
       "    x.observe(outputEl, {childList: true});\n",
       "}}\n",
       "\n",
       "                        })                };                });            </script>        </div>"
      ]
     },
     "metadata": {},
     "output_type": "display_data"
    }
   ],
   "source": [
    "path_dir = 'E:/Shahrpot/Asphalt/Shahrpot/Asphalt/reports/figures'\n",
    "ch.bar_chart(cnt_q1, title=df_guide['text'][0], name='q1', path=path_dir)"
   ]
  },
  {
   "cell_type": "code",
   "execution_count": null,
   "metadata": {},
   "outputs": [],
   "source": []
  }
 ],
 "metadata": {
  "kernelspec": {
   "display_name": "Python 3 (ipykernel)",
   "language": "python",
   "name": "python3"
  },
  "language_info": {
   "codemirror_mode": {
    "name": "ipython",
    "version": 3
   },
   "file_extension": ".py",
   "mimetype": "text/x-python",
   "name": "python",
   "nbconvert_exporter": "python",
   "pygments_lexer": "ipython3",
   "version": "3.10.6"
  }
 },
 "nbformat": 4,
 "nbformat_minor": 2
}
